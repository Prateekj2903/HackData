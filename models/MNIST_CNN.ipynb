{
 "cells": [
  {
   "cell_type": "code",
   "execution_count": 1,
   "metadata": {},
   "outputs": [
    {
     "name": "stderr",
     "output_type": "stream",
     "text": [
      "Using TensorFlow backend.\n"
     ]
    }
   ],
   "source": [
    "import numpy as np\n",
    "import keras\n",
    "from keras.datasets import mnist\n",
    "from keras.models import Sequential\n",
    "from keras.layers import Dense, Dropout, Activation, Conv2D, MaxPooling2D, Flatten"
   ]
  },
  {
   "cell_type": "code",
   "execution_count": 2,
   "metadata": {
    "collapsed": true
   },
   "outputs": [],
   "source": [
    "(xtrain, ytrain), (xtest, ytest) = mnist.load_data()"
   ]
  },
  {
   "cell_type": "code",
   "execution_count": 3,
   "metadata": {},
   "outputs": [
    {
     "name": "stdout",
     "output_type": "stream",
     "text": [
      "28 28\n"
     ]
    }
   ],
   "source": [
    "rows, cols = xtrain.shape[1], xtrain.shape[2]\n",
    "print(rows, cols)"
   ]
  },
  {
   "cell_type": "code",
   "execution_count": 4,
   "metadata": {
    "collapsed": true
   },
   "outputs": [],
   "source": [
    "no_of_classes = 10"
   ]
  },
  {
   "cell_type": "code",
   "execution_count": 5,
   "metadata": {
    "collapsed": true
   },
   "outputs": [],
   "source": [
    "xtrain.astype('float32')\n",
    "xtest.astype('float32')\n",
    "\n",
    "xtrain = xtrain / 255\n",
    "xtest = xtest / 255\n",
    "\n",
    "y_train_one_hot_encoded = keras.utils.to_categorical(ytrain , no_of_classes)\n",
    "y_test_one_hot_encoded = keras.utils.to_categorical(ytest , no_of_classes)"
   ]
  },
  {
   "cell_type": "code",
   "execution_count": null,
   "metadata": {
    "collapsed": true
   },
   "outputs": [],
   "source": []
  },
  {
   "cell_type": "code",
   "execution_count": null,
   "metadata": {
    "collapsed": true
   },
   "outputs": [],
   "source": []
  },
  {
   "cell_type": "code",
   "execution_count": 6,
   "metadata": {},
   "outputs": [
    {
     "data": {
      "text/plain": [
       "(60000, 28, 28, 1)"
      ]
     },
     "execution_count": 6,
     "metadata": {},
     "output_type": "execute_result"
    }
   ],
   "source": [
    "xtrain = xtrain.reshape((xtrain.shape[0], rows, cols, 1))\n",
    "xtest = xtest.reshape((xtest.shape[0], rows, cols, 1))\n",
    "\n",
    "xtrain.shape"
   ]
  },
  {
   "cell_type": "code",
   "execution_count": null,
   "metadata": {
    "collapsed": true
   },
   "outputs": [],
   "source": []
  },
  {
   "cell_type": "code",
   "execution_count": 7,
   "metadata": {
    "collapsed": true
   },
   "outputs": [],
   "source": [
    "model = Sequential()"
   ]
  },
  {
   "cell_type": "code",
   "execution_count": 8,
   "metadata": {},
   "outputs": [
    {
     "name": "stdout",
     "output_type": "stream",
     "text": [
      "_________________________________________________________________\n",
      "Layer (type)                 Output Shape              Param #   \n",
      "=================================================================\n",
      "conv2d_1 (Conv2D)            (None, 26, 26, 64)        640       \n",
      "_________________________________________________________________\n",
      "activation_1 (Activation)    (None, 26, 26, 64)        0         \n",
      "_________________________________________________________________\n",
      "max_pooling2d_1 (MaxPooling2 (None, 13, 13, 64)        0         \n",
      "_________________________________________________________________\n",
      "dropout_1 (Dropout)          (None, 13, 13, 64)        0         \n",
      "_________________________________________________________________\n",
      "conv2d_2 (Conv2D)            (None, 11, 11, 64)        36928     \n",
      "_________________________________________________________________\n",
      "activation_2 (Activation)    (None, 11, 11, 64)        0         \n",
      "_________________________________________________________________\n",
      "flatten_1 (Flatten)          (None, 7744)              0         \n",
      "_________________________________________________________________\n",
      "dense_1 (Dense)              (None, 256)               1982720   \n",
      "_________________________________________________________________\n",
      "activation_3 (Activation)    (None, 256)               0         \n",
      "_________________________________________________________________\n",
      "dropout_2 (Dropout)          (None, 256)               0         \n",
      "_________________________________________________________________\n",
      "dense_2 (Dense)              (None, 10)                2570      \n",
      "_________________________________________________________________\n",
      "activation_4 (Activation)    (None, 10)                0         \n",
      "=================================================================\n",
      "Total params: 2,022,858.0\n",
      "Trainable params: 2,022,858.0\n",
      "Non-trainable params: 0.0\n",
      "_________________________________________________________________\n"
     ]
    }
   ],
   "source": [
    "model.add(Conv2D(64, kernel_size=(3, 3), input_shape = (rows, cols, 1)))\n",
    "model.add(Activation('relu'))\n",
    "model.add(MaxPooling2D(pool_size=(2, 2)))\n",
    "model.add(Dropout(0.25))\n",
    "model.add(Conv2D(64, kernel_size=(3, 3)))\n",
    "model.add(Activation('relu'))\n",
    "model.add(Flatten())\n",
    "model.add(Dense(256))\n",
    "model.add(Activation('relu'))\n",
    "model.add(Dropout(0.25))\n",
    "model.add(Dense(no_of_classes))\n",
    "model.add(Activation('softmax'))\n",
    "model.summary()"
   ]
  },
  {
   "cell_type": "code",
   "execution_count": 9,
   "metadata": {
    "collapsed": true
   },
   "outputs": [],
   "source": [
    "model.compile(optimizer='adam',\n",
    "              loss='categorical_crossentropy',\n",
    "              metrics=['accuracy'])"
   ]
  },
  {
   "cell_type": "code",
   "execution_count": 10,
   "metadata": {},
   "outputs": [
    {
     "name": "stdout",
     "output_type": "stream",
     "text": [
      "Train on 60000 samples, validate on 10000 samples\n",
      "Epoch 1/15\n",
      "60000/60000 [==============================] - 103s - loss: 0.1650 - acc: 0.9499 - val_loss: 0.0398 - val_acc: 0.9865\n",
      "Epoch 2/15\n",
      "60000/60000 [==============================] - 105s - loss: 0.0498 - acc: 0.9848 - val_loss: 0.0307 - val_acc: 0.9897\n",
      "Epoch 3/15\n",
      "60000/60000 [==============================] - 104s - loss: 0.0349 - acc: 0.9889 - val_loss: 0.0310 - val_acc: 0.9899\n",
      "Epoch 4/15\n",
      "60000/60000 [==============================] - 104s - loss: 0.0242 - acc: 0.9924 - val_loss: 0.0332 - val_acc: 0.9895\n",
      "Epoch 5/15\n",
      "60000/60000 [==============================] - 104s - loss: 0.0194 - acc: 0.9939 - val_loss: 0.0312 - val_acc: 0.9905\n",
      "Epoch 6/15\n",
      "60000/60000 [==============================] - 103s - loss: 0.0154 - acc: 0.9950 - val_loss: 0.0312 - val_acc: 0.9912\n",
      "Epoch 7/15\n",
      "60000/60000 [==============================] - 103s - loss: 0.0143 - acc: 0.9952 - val_loss: 0.0267 - val_acc: 0.9922\n",
      "Epoch 8/15\n",
      "60000/60000 [==============================] - 104s - loss: 0.0112 - acc: 0.9962 - val_loss: 0.0262 - val_acc: 0.9927\n",
      "Epoch 9/15\n",
      "60000/60000 [==============================] - 104s - loss: 0.0109 - acc: 0.9964 - val_loss: 0.0282 - val_acc: 0.9929\n",
      "Epoch 10/15\n",
      "60000/60000 [==============================] - 103s - loss: 0.0093 - acc: 0.9969 - val_loss: 0.0347 - val_acc: 0.9916\n",
      "Epoch 11/15\n",
      "60000/60000 [==============================] - 103s - loss: 0.0081 - acc: 0.9973 - val_loss: 0.0348 - val_acc: 0.9909\n",
      "Epoch 12/15\n",
      "60000/60000 [==============================] - 103s - loss: 0.0070 - acc: 0.9977 - val_loss: 0.0280 - val_acc: 0.9919\n",
      "Epoch 13/15\n",
      "60000/60000 [==============================] - 103s - loss: 0.0064 - acc: 0.9979 - val_loss: 0.0382 - val_acc: 0.9916\n",
      "Epoch 14/15\n",
      "60000/60000 [==============================] - 104s - loss: 0.0054 - acc: 0.9982 - val_loss: 0.0347 - val_acc: 0.9930\n",
      "Epoch 15/15\n",
      "60000/60000 [==============================] - 104s - loss: 0.0073 - acc: 0.9978 - val_loss: 0.0387 - val_acc: 0.9908\n"
     ]
    },
    {
     "data": {
      "text/plain": [
       "<keras.callbacks.History at 0x7f1ecbe1e668>"
      ]
     },
     "execution_count": 10,
     "metadata": {},
     "output_type": "execute_result"
    }
   ],
   "source": [
    "model.fit(xtrain, y_train_one_hot_encoded,\n",
    "          batch_size=128,\n",
    "          epochs=15,\n",
    "          validation_data=(xtest, y_test_one_hot_encoded))"
   ]
  },
  {
   "cell_type": "code",
   "execution_count": 11,
   "metadata": {
    "collapsed": true
   },
   "outputs": [],
   "source": [
    "score = model.evaluate(xtest, y_test_one_hot_encoded, verbose=0)"
   ]
  },
  {
   "cell_type": "code",
   "execution_count": 12,
   "metadata": {},
   "outputs": [
    {
     "data": {
      "text/plain": [
       "[0.038729914677341409, 0.99080000000000001]"
      ]
     },
     "execution_count": 12,
     "metadata": {},
     "output_type": "execute_result"
    }
   ],
   "source": [
    "score"
   ]
  },
  {
   "cell_type": "code",
   "execution_count": 13,
   "metadata": {
    "collapsed": true
   },
   "outputs": [],
   "source": [
    "model.save('model-digit.h5')"
   ]
  },
  {
   "cell_type": "code",
   "execution_count": null,
   "metadata": {
    "collapsed": true
   },
   "outputs": [],
   "source": []
  }
 ],
 "metadata": {
  "kernelspec": {
   "display_name": "Python 3",
   "language": "python",
   "name": "python3"
  },
  "language_info": {
   "codemirror_mode": {
    "name": "ipython",
    "version": 3
   },
   "file_extension": ".py",
   "mimetype": "text/x-python",
   "name": "python",
   "nbconvert_exporter": "python",
   "pygments_lexer": "ipython3",
   "version": "3.6.1"
  }
 },
 "nbformat": 4,
 "nbformat_minor": 2
}
