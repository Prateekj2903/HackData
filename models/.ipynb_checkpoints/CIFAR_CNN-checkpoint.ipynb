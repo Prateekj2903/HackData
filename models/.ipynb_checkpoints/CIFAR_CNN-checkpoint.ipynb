{
 "cells": [
  {
   "cell_type": "code",
   "execution_count": 25,
   "metadata": {
    "collapsed": true
   },
   "outputs": [],
   "source": [
    "import numpy as np\n",
    "import matplotlib.pyplot as plt\n",
    "%matplotlib inline"
   ]
  },
  {
   "cell_type": "code",
   "execution_count": 26,
   "metadata": {
    "collapsed": true
   },
   "outputs": [],
   "source": [
    "def unpickle(file):\n",
    "    import pickle\n",
    "    with open('cifar-100-python/'+file, 'rb') as fo:\n",
    "        dict = pickle.load(fo, encoding='bytes')\n",
    "    return dict"
   ]
  },
  {
   "cell_type": "code",
   "execution_count": 27,
   "metadata": {
    "collapsed": true
   },
   "outputs": [],
   "source": [
    "train = unpickle('train')\n",
    "test = unpickle('test')\n",
    "meta = unpickle('meta')"
   ]
  },
  {
   "cell_type": "code",
   "execution_count": 28,
   "metadata": {},
   "outputs": [
    {
     "name": "stdout",
     "output_type": "stream",
     "text": [
      "dict_keys([b'fine_label_names', b'coarse_label_names'])\n"
     ]
    },
    {
     "data": {
      "text/plain": [
       "'apple'"
      ]
     },
     "execution_count": 28,
     "metadata": {},
     "output_type": "execute_result"
    }
   ],
   "source": [
    "print(meta.keys())\n",
    "labels = meta[b'fine_label_names']\n",
    "labels[0].decode('utf-8')"
   ]
  },
  {
   "cell_type": "code",
   "execution_count": 29,
   "metadata": {
    "collapsed": true
   },
   "outputs": [],
   "source": [
    "index = [0, 5, 9, 10, 20, 22, 28, 53, 84]\n",
    "# index.index(5)"
   ]
  },
  {
   "cell_type": "code",
   "execution_count": 30,
   "metadata": {},
   "outputs": [
    {
     "name": "stdout",
     "output_type": "stream",
     "text": [
      "dict_keys([b'filenames', b'batch_label', b'fine_labels', b'coarse_labels', b'data'])\n",
      "dict_keys([b'filenames', b'batch_label', b'fine_labels', b'coarse_labels', b'data'])\n"
     ]
    }
   ],
   "source": [
    "print(train.keys())\n",
    "print(test.keys())"
   ]
  },
  {
   "cell_type": "code",
   "execution_count": 31,
   "metadata": {
    "collapsed": true
   },
   "outputs": [],
   "source": [
    "# train[b'coarse_labels']"
   ]
  },
  {
   "cell_type": "code",
   "execution_count": 32,
   "metadata": {},
   "outputs": [
    {
     "name": "stdout",
     "output_type": "stream",
     "text": [
      "(50000, 32, 32, 3)\n",
      "(10000, 32, 32, 3)\n"
     ]
    }
   ],
   "source": [
    "xtrain = train[b'data']\n",
    "xtrain = xtrain.reshape((50000,3,32,32)).astype('uint8')\n",
    "xtrain = np.transpose(xtrain, (0, 2, 3, 1))\n",
    "print(xtrain.shape)\n",
    "ytrain = train[b'fine_labels']\n",
    "\n",
    "xtest = test[b'data']\n",
    "xtest = xtest.reshape((10000,3,32,32)).astype('uint8')\n",
    "xtest = np.transpose(xtest, (0, 2, 3, 1))\n",
    "print(xtest.shape)\n",
    "ytest = test[b'fine_labels']"
   ]
  },
  {
   "cell_type": "code",
   "execution_count": 33,
   "metadata": {
    "collapsed": true
   },
   "outputs": [],
   "source": [
    "x = []\n",
    "y = []\n",
    "label = []\n",
    "\n",
    "for i in range(50000):\n",
    "    if ytrain[i] in index:\n",
    "        img = xtrain[i]\n",
    "        \n",
    "        x.append(xtrain[i])\n",
    "        y.append(index.index(ytrain[i]))\n",
    "        labels.append([i])\n",
    "        \n",
    "for i in range(100):\n",
    "    if i in index:\n",
    "        label.append(labels[i].decode('utf-8'))\n",
    "        \n",
    "xtrain = np.array(x)\n",
    "ytrain = np.array(y)\n",
    "label = np.array(label)"
   ]
  },
  {
   "cell_type": "code",
   "execution_count": null,
   "metadata": {
    "collapsed": true
   },
   "outputs": [],
   "source": []
  },
  {
   "cell_type": "code",
   "execution_count": 34,
   "metadata": {
    "collapsed": true
   },
   "outputs": [],
   "source": [
    "x = []\n",
    "y = []\n",
    "\n",
    "for i in range(10000):\n",
    "    if ytest[i] in index:\n",
    "        x.append(xtest[i])\n",
    "        y.append(index.index(ytest[i]))\n",
    "        labels.append([i])\n",
    "        \n",
    "xtest = np.array(x)\n",
    "ytest = np.array(y)"
   ]
  },
  {
   "cell_type": "code",
   "execution_count": 35,
   "metadata": {},
   "outputs": [
    {
     "name": "stdout",
     "output_type": "stream",
     "text": [
      "0\n",
      "apple\n"
     ]
    },
    {
     "data": {
      "image/png": "[encoded data removed]",
      "text/plain": [
       "<matplotlib.figure.Figure at 0x7f1087916c18>"
      ]
     },
     "metadata": {},
     "output_type": "display_data"
    }
   ],
   "source": [
    "i=20\n",
    "\n",
    "import numpy as np\n",
    "plt.imshow(xtest[i],interpolation = 'nearest')\n",
    "plt.xticks([])\n",
    "plt.yticks([])\n",
    "print(ytest[i])\n",
    "print(label[ytest[i]])"
   ]
  },
  {
   "cell_type": "code",
   "execution_count": 36,
   "metadata": {},
   "outputs": [
    {
     "data": {
      "text/plain": [
       "array(['apple', 'bed', 'bottle', 'bowl', 'chair', 'clock', 'cup', 'orange',\n",
       "       'table'],\n",
       "      dtype='<U6')"
      ]
     },
     "execution_count": 36,
     "metadata": {},
     "output_type": "execute_result"
    }
   ],
   "source": [
    "label"
   ]
  },
  {
   "cell_type": "code",
   "execution_count": null,
   "metadata": {
    "collapsed": true
   },
   "outputs": [],
   "source": []
  },
  {
   "cell_type": "code",
   "execution_count": null,
   "metadata": {
    "collapsed": true
   },
   "outputs": [],
   "source": []
  },
  {
   "cell_type": "code",
   "execution_count": null,
   "metadata": {
    "collapsed": true
   },
   "outputs": [],
   "source": []
  },
  {
   "cell_type": "code",
   "execution_count": null,
   "metadata": {
    "collapsed": true
   },
   "outputs": [],
   "source": []
  },
  {
   "cell_type": "code",
   "execution_count": null,
   "metadata": {
    "collapsed": true
   },
   "outputs": [],
   "source": []
  },
  {
   "cell_type": "code",
   "execution_count": null,
   "metadata": {
    "collapsed": true
   },
   "outputs": [],
   "source": []
  },
  {
   "cell_type": "code",
   "execution_count": null,
   "metadata": {
    "collapsed": true
   },
   "outputs": [],
   "source": []
  },
  {
   "cell_type": "code",
   "execution_count": 37,
   "metadata": {
    "collapsed": true
   },
   "outputs": [],
   "source": [
    "import keras\n",
    "from keras.layers import Conv2D, Dense, Activation, MaxPooling2D, Dropout, Flatten\n",
    "from keras.models import Sequential"
   ]
  },
  {
   "cell_type": "code",
   "execution_count": 38,
   "metadata": {
    "collapsed": true
   },
   "outputs": [],
   "source": [
    "no_of_classes = 9\n",
    "ytrain_one_hot_encoded = keras.utils.to_categorical(ytrain, num_classes=no_of_classes)\n",
    "ytest_one_hot_encoded = keras.utils.to_categorical(ytest, num_classes=no_of_classes)"
   ]
  },
  {
   "cell_type": "code",
   "execution_count": 39,
   "metadata": {
    "collapsed": true
   },
   "outputs": [],
   "source": [
    "xtrain = xtrain/255\n",
    "xtest = xtest/255"
   ]
  },
  {
   "cell_type": "code",
   "execution_count": 50,
   "metadata": {
    "collapsed": true
   },
   "outputs": [],
   "source": [
    "model = Sequential()"
   ]
  },
  {
   "cell_type": "code",
   "execution_count": 51,
   "metadata": {
    "collapsed": true
   },
   "outputs": [],
   "source": [
    "model.add(Conv2D(32, kernel_size=(3, 3), input_shape = xtrain.shape[1:]))\n",
    "model.add(Activation('relu'))\n",
    "model.add(Conv2D(32, kernel_size=(3, 3)))\n",
    "model.add(Activation('relu'))\n",
    "model.add(MaxPooling2D(pool_size=(2, 2)))\n",
    "model.add(Dropout(0.25))\n",
    "\n",
    "model.add(Conv2D(64, kernel_size=(3, 3), input_shape = xtrain.shape[1:]))\n",
    "model.add(Activation('relu'))\n",
    "model.add(Conv2D(64, kernel_size=(3, 3), input_shape = xtrain.shape[1:]))\n",
    "model.add(Activation('relu'))\n",
    "model.add(MaxPooling2D(pool_size=(2, 2)))\n",
    "model.add(Dropout(0.25))\n",
    "\n",
    "model.add(Flatten())\n",
    "model.add(Dense(512))\n",
    "model.add(Activation('relu'))\n",
    "model.add(Dropout(0.5))\n",
    "model.add(Dense(no_of_classes))\n",
    "model.add(Activation('softmax'))"
   ]
  },
  {
   "cell_type": "code",
   "execution_count": 52,
   "metadata": {
    "collapsed": true
   },
   "outputs": [],
   "source": [
    "opt = keras.optimizers.rmsprop(lr=0.0001, decay=1e-6)\n",
    "\n",
    "model.compile(loss='categorical_crossentropy',\n",
    "              optimizer=opt,\n",
    "              metrics=['accuracy'])"
   ]
  },
  {
   "cell_type": "code",
   "execution_count": 53,
   "metadata": {},
   "outputs": [
    {
     "name": "stdout",
     "output_type": "stream",
     "text": [
      "Train on 4500 samples, validate on 900 samples\n",
      "Epoch 1/100\n",
      "4500/4500 [==============================] - 15s - loss: 2.1184 - acc: 0.1800 - val_loss: 1.9327 - val_acc: 0.2789\n",
      "Epoch 2/100\n",
      "4500/4500 [==============================] - 16s - loss: 1.8884 - acc: 0.2796 - val_loss: 1.8394 - val_acc: 0.3567\n",
      "Epoch 3/100\n",
      "4500/4500 [==============================] - 16s - loss: 1.8394 - acc: 0.3067 - val_loss: 1.7932 - val_acc: 0.3622\n",
      "Epoch 4/100\n",
      "4500/4500 [==============================] - 16s - loss: 1.7899 - acc: 0.3364 - val_loss: 1.7322 - val_acc: 0.4067\n",
      "Epoch 5/100\n",
      "4500/4500 [==============================] - 16s - loss: 1.7263 - acc: 0.3651 - val_loss: 1.6815 - val_acc: 0.4256\n",
      "Epoch 6/100\n",
      "4500/4500 [==============================] - 16s - loss: 1.6749 - acc: 0.4009 - val_loss: 1.6046 - val_acc: 0.4422\n",
      "Epoch 7/100\n",
      "4500/4500 [==============================] - 16s - loss: 1.6112 - acc: 0.4140 - val_loss: 1.5791 - val_acc: 0.4767\n",
      "Epoch 8/100\n",
      "4500/4500 [==============================] - 16s - loss: 1.5507 - acc: 0.4462 - val_loss: 1.5147 - val_acc: 0.5033\n",
      "Epoch 9/100\n",
      "4500/4500 [==============================] - 16s - loss: 1.4842 - acc: 0.4789 - val_loss: 1.4809 - val_acc: 0.4978\n",
      "Epoch 10/100\n",
      "4500/4500 [==============================] - 16s - loss: 1.4456 - acc: 0.4900 - val_loss: 1.4528 - val_acc: 0.5167\n",
      "Epoch 11/100\n",
      "4500/4500 [==============================] - 16s - loss: 1.3970 - acc: 0.5138 - val_loss: 1.3688 - val_acc: 0.5344\n",
      "Epoch 12/100\n",
      "4500/4500 [==============================] - 16s - loss: 1.3481 - acc: 0.5304 - val_loss: 1.3515 - val_acc: 0.5511\n",
      "Epoch 13/100\n",
      "4500/4500 [==============================] - 16s - loss: 1.3191 - acc: 0.5504 - val_loss: 1.3270 - val_acc: 0.5433\n",
      "Epoch 14/100\n",
      "4500/4500 [==============================] - 16s - loss: 1.2846 - acc: 0.5487 - val_loss: 1.3191 - val_acc: 0.5356\n",
      "Epoch 15/100\n",
      "4500/4500 [==============================] - 16s - loss: 1.2504 - acc: 0.5753 - val_loss: 1.2743 - val_acc: 0.5711\n",
      "Epoch 16/100\n",
      "4500/4500 [==============================] - 16s - loss: 1.2221 - acc: 0.5858 - val_loss: 1.2564 - val_acc: 0.5744\n",
      "Epoch 17/100\n",
      "4500/4500 [==============================] - 16s - loss: 1.1971 - acc: 0.5927 - val_loss: 1.2693 - val_acc: 0.5700\n",
      "Epoch 18/100\n",
      "4500/4500 [==============================] - 16s - loss: 1.1672 - acc: 0.5976 - val_loss: 1.1934 - val_acc: 0.6033\n",
      "Epoch 19/100\n",
      "4500/4500 [==============================] - 16s - loss: 1.1431 - acc: 0.6111 - val_loss: 1.2069 - val_acc: 0.5856\n",
      "Epoch 20/100\n",
      "4500/4500 [==============================] - 16s - loss: 1.1397 - acc: 0.6156 - val_loss: 1.1760 - val_acc: 0.6089\n",
      "Epoch 21/100\n",
      "4500/4500 [==============================] - 16s - loss: 1.1101 - acc: 0.6171 - val_loss: 1.1822 - val_acc: 0.5944\n",
      "Epoch 22/100\n",
      "3168/4500 [====================>.........] - ETA: 4s - loss: 1.0766 - acc: 0.6272"
     ]
    },
    {
     "ename": "KeyboardInterrupt",
     "evalue": "",
     "output_type": "error",
     "traceback": [
      "\u001b[0;31m---------------------------------------------------------------------------\u001b[0m",
      "\u001b[0;31mKeyboardInterrupt\u001b[0m                         Traceback (most recent call last)",
      "\u001b[0;32m<ipython-input-53-4b6324b36545>\u001b[0m in \u001b[0;36m<module>\u001b[0;34m()\u001b[0m\n\u001b[1;32m      4\u001b[0m           \u001b[0mvalidation_data\u001b[0m\u001b[0;34m=\u001b[0m\u001b[0;34m(\u001b[0m\u001b[0mxtest\u001b[0m\u001b[0;34m,\u001b[0m \u001b[0mytest_one_hot_encoded\u001b[0m\u001b[0;34m)\u001b[0m\u001b[0;34m,\u001b[0m\u001b[0;34m\u001b[0m\u001b[0m\n\u001b[1;32m      5\u001b[0m           \u001b[0mshuffle\u001b[0m\u001b[0;34m=\u001b[0m\u001b[0;32mTrue\u001b[0m\u001b[0;34m,\u001b[0m\u001b[0;34m\u001b[0m\u001b[0m\n\u001b[0;32m----> 6\u001b[0;31m              verbose = 1)\n\u001b[0m",
      "\u001b[0;32m/home/prateekjain2903/anaconda3/lib/python3.6/site-packages/keras/models.py\u001b[0m in \u001b[0;36mfit\u001b[0;34m(self, x, y, batch_size, epochs, verbose, callbacks, validation_split, validation_data, shuffle, class_weight, sample_weight, initial_epoch, **kwargs)\u001b[0m\n\u001b[1;32m    843\u001b[0m                               \u001b[0mclass_weight\u001b[0m\u001b[0;34m=\u001b[0m\u001b[0mclass_weight\u001b[0m\u001b[0;34m,\u001b[0m\u001b[0;34m\u001b[0m\u001b[0m\n\u001b[1;32m    844\u001b[0m                               \u001b[0msample_weight\u001b[0m\u001b[0;34m=\u001b[0m\u001b[0msample_weight\u001b[0m\u001b[0;34m,\u001b[0m\u001b[0;34m\u001b[0m\u001b[0m\n\u001b[0;32m--> 845\u001b[0;31m                               initial_epoch=initial_epoch)\n\u001b[0m\u001b[1;32m    846\u001b[0m \u001b[0;34m\u001b[0m\u001b[0m\n\u001b[1;32m    847\u001b[0m     def evaluate(self, x, y, batch_size=32, verbose=1,\n",
      "\u001b[0;32m/home/prateekjain2903/anaconda3/lib/python3.6/site-packages/keras/engine/training.py\u001b[0m in \u001b[0;36mfit\u001b[0;34m(self, x, y, batch_size, epochs, verbose, callbacks, validation_split, validation_data, shuffle, class_weight, sample_weight, initial_epoch, **kwargs)\u001b[0m\n\u001b[1;32m   1483\u001b[0m                               \u001b[0mval_f\u001b[0m\u001b[0;34m=\u001b[0m\u001b[0mval_f\u001b[0m\u001b[0;34m,\u001b[0m \u001b[0mval_ins\u001b[0m\u001b[0;34m=\u001b[0m\u001b[0mval_ins\u001b[0m\u001b[0;34m,\u001b[0m \u001b[0mshuffle\u001b[0m\u001b[0;34m=\u001b[0m\u001b[0mshuffle\u001b[0m\u001b[0;34m,\u001b[0m\u001b[0;34m\u001b[0m\u001b[0m\n\u001b[1;32m   1484\u001b[0m                               \u001b[0mcallback_metrics\u001b[0m\u001b[0;34m=\u001b[0m\u001b[0mcallback_metrics\u001b[0m\u001b[0;34m,\u001b[0m\u001b[0;34m\u001b[0m\u001b[0m\n\u001b[0;32m-> 1485\u001b[0;31m                               initial_epoch=initial_epoch)\n\u001b[0m\u001b[1;32m   1486\u001b[0m \u001b[0;34m\u001b[0m\u001b[0m\n\u001b[1;32m   1487\u001b[0m     \u001b[0;32mdef\u001b[0m \u001b[0mevaluate\u001b[0m\u001b[0;34m(\u001b[0m\u001b[0mself\u001b[0m\u001b[0;34m,\u001b[0m \u001b[0mx\u001b[0m\u001b[0;34m,\u001b[0m \u001b[0my\u001b[0m\u001b[0;34m,\u001b[0m \u001b[0mbatch_size\u001b[0m\u001b[0;34m=\u001b[0m\u001b[0;36m32\u001b[0m\u001b[0;34m,\u001b[0m \u001b[0mverbose\u001b[0m\u001b[0;34m=\u001b[0m\u001b[0;36m1\u001b[0m\u001b[0;34m,\u001b[0m \u001b[0msample_weight\u001b[0m\u001b[0;34m=\u001b[0m\u001b[0;32mNone\u001b[0m\u001b[0;34m)\u001b[0m\u001b[0;34m:\u001b[0m\u001b[0;34m\u001b[0m\u001b[0m\n",
      "\u001b[0;32m/home/prateekjain2903/anaconda3/lib/python3.6/site-packages/keras/engine/training.py\u001b[0m in \u001b[0;36m_fit_loop\u001b[0;34m(self, f, ins, out_labels, batch_size, epochs, verbose, callbacks, val_f, val_ins, shuffle, callback_metrics, initial_epoch)\u001b[0m\n\u001b[1;32m   1138\u001b[0m                 \u001b[0mbatch_logs\u001b[0m\u001b[0;34m[\u001b[0m\u001b[0;34m'size'\u001b[0m\u001b[0;34m]\u001b[0m \u001b[0;34m=\u001b[0m \u001b[0mlen\u001b[0m\u001b[0;34m(\u001b[0m\u001b[0mbatch_ids\u001b[0m\u001b[0;34m)\u001b[0m\u001b[0;34m\u001b[0m\u001b[0m\n\u001b[1;32m   1139\u001b[0m                 \u001b[0mcallbacks\u001b[0m\u001b[0;34m.\u001b[0m\u001b[0mon_batch_begin\u001b[0m\u001b[0;34m(\u001b[0m\u001b[0mbatch_index\u001b[0m\u001b[0;34m,\u001b[0m \u001b[0mbatch_logs\u001b[0m\u001b[0;34m)\u001b[0m\u001b[0;34m\u001b[0m\u001b[0m\n\u001b[0;32m-> 1140\u001b[0;31m                 \u001b[0mouts\u001b[0m \u001b[0;34m=\u001b[0m \u001b[0mf\u001b[0m\u001b[0;34m(\u001b[0m\u001b[0mins_batch\u001b[0m\u001b[0;34m)\u001b[0m\u001b[0;34m\u001b[0m\u001b[0m\n\u001b[0m\u001b[1;32m   1141\u001b[0m                 \u001b[0;32mif\u001b[0m \u001b[0;32mnot\u001b[0m \u001b[0misinstance\u001b[0m\u001b[0;34m(\u001b[0m\u001b[0mouts\u001b[0m\u001b[0;34m,\u001b[0m \u001b[0mlist\u001b[0m\u001b[0;34m)\u001b[0m\u001b[0;34m:\u001b[0m\u001b[0;34m\u001b[0m\u001b[0m\n\u001b[1;32m   1142\u001b[0m                     \u001b[0mouts\u001b[0m \u001b[0;34m=\u001b[0m \u001b[0;34m[\u001b[0m\u001b[0mouts\u001b[0m\u001b[0;34m]\u001b[0m\u001b[0;34m\u001b[0m\u001b[0m\n",
      "\u001b[0;32m/home/prateekjain2903/anaconda3/lib/python3.6/site-packages/keras/backend/tensorflow_backend.py\u001b[0m in \u001b[0;36m__call__\u001b[0;34m(self, inputs)\u001b[0m\n\u001b[1;32m   2071\u001b[0m         \u001b[0msession\u001b[0m \u001b[0;34m=\u001b[0m \u001b[0mget_session\u001b[0m\u001b[0;34m(\u001b[0m\u001b[0;34m)\u001b[0m\u001b[0;34m\u001b[0m\u001b[0m\n\u001b[1;32m   2072\u001b[0m         updated = session.run(self.outputs + [self.updates_op],\n\u001b[0;32m-> 2073\u001b[0;31m                               feed_dict=feed_dict)\n\u001b[0m\u001b[1;32m   2074\u001b[0m         \u001b[0;32mreturn\u001b[0m \u001b[0mupdated\u001b[0m\u001b[0;34m[\u001b[0m\u001b[0;34m:\u001b[0m\u001b[0mlen\u001b[0m\u001b[0;34m(\u001b[0m\u001b[0mself\u001b[0m\u001b[0;34m.\u001b[0m\u001b[0moutputs\u001b[0m\u001b[0;34m)\u001b[0m\u001b[0;34m]\u001b[0m\u001b[0;34m\u001b[0m\u001b[0m\n\u001b[1;32m   2075\u001b[0m \u001b[0;34m\u001b[0m\u001b[0m\n",
      "\u001b[0;32m/home/prateekjain2903/anaconda3/lib/python3.6/site-packages/tensorflow/python/client/session.py\u001b[0m in \u001b[0;36mrun\u001b[0;34m(self, fetches, feed_dict, options, run_metadata)\u001b[0m\n\u001b[1;32m    776\u001b[0m     \u001b[0;32mtry\u001b[0m\u001b[0;34m:\u001b[0m\u001b[0;34m\u001b[0m\u001b[0m\n\u001b[1;32m    777\u001b[0m       result = self._run(None, fetches, feed_dict, options_ptr,\n\u001b[0;32m--> 778\u001b[0;31m                          run_metadata_ptr)\n\u001b[0m\u001b[1;32m    779\u001b[0m       \u001b[0;32mif\u001b[0m \u001b[0mrun_metadata\u001b[0m\u001b[0;34m:\u001b[0m\u001b[0;34m\u001b[0m\u001b[0m\n\u001b[1;32m    780\u001b[0m         \u001b[0mproto_data\u001b[0m \u001b[0;34m=\u001b[0m \u001b[0mtf_session\u001b[0m\u001b[0;34m.\u001b[0m\u001b[0mTF_GetBuffer\u001b[0m\u001b[0;34m(\u001b[0m\u001b[0mrun_metadata_ptr\u001b[0m\u001b[0;34m)\u001b[0m\u001b[0;34m\u001b[0m\u001b[0m\n",
      "\u001b[0;32m/home/prateekjain2903/anaconda3/lib/python3.6/site-packages/tensorflow/python/client/session.py\u001b[0m in \u001b[0;36m_run\u001b[0;34m(self, handle, fetches, feed_dict, options, run_metadata)\u001b[0m\n\u001b[1;32m    980\u001b[0m     \u001b[0;32mif\u001b[0m \u001b[0mfinal_fetches\u001b[0m \u001b[0;32mor\u001b[0m \u001b[0mfinal_targets\u001b[0m\u001b[0;34m:\u001b[0m\u001b[0;34m\u001b[0m\u001b[0m\n\u001b[1;32m    981\u001b[0m       results = self._do_run(handle, final_targets, final_fetches,\n\u001b[0;32m--> 982\u001b[0;31m                              feed_dict_string, options, run_metadata)\n\u001b[0m\u001b[1;32m    983\u001b[0m     \u001b[0;32melse\u001b[0m\u001b[0;34m:\u001b[0m\u001b[0;34m\u001b[0m\u001b[0m\n\u001b[1;32m    984\u001b[0m       \u001b[0mresults\u001b[0m \u001b[0;34m=\u001b[0m \u001b[0;34m[\u001b[0m\u001b[0;34m]\u001b[0m\u001b[0;34m\u001b[0m\u001b[0m\n",
      "\u001b[0;32m/home/prateekjain2903/anaconda3/lib/python3.6/site-packages/tensorflow/python/client/session.py\u001b[0m in \u001b[0;36m_do_run\u001b[0;34m(self, handle, target_list, fetch_list, feed_dict, options, run_metadata)\u001b[0m\n\u001b[1;32m   1030\u001b[0m     \u001b[0;32mif\u001b[0m \u001b[0mhandle\u001b[0m \u001b[0;32mis\u001b[0m \u001b[0;32mNone\u001b[0m\u001b[0;34m:\u001b[0m\u001b[0;34m\u001b[0m\u001b[0m\n\u001b[1;32m   1031\u001b[0m       return self._do_call(_run_fn, self._session, feed_dict, fetch_list,\n\u001b[0;32m-> 1032\u001b[0;31m                            target_list, options, run_metadata)\n\u001b[0m\u001b[1;32m   1033\u001b[0m     \u001b[0;32melse\u001b[0m\u001b[0;34m:\u001b[0m\u001b[0;34m\u001b[0m\u001b[0m\n\u001b[1;32m   1034\u001b[0m       return self._do_call(_prun_fn, self._session, handle, feed_dict,\n",
      "\u001b[0;32m/home/prateekjain2903/anaconda3/lib/python3.6/site-packages/tensorflow/python/client/session.py\u001b[0m in \u001b[0;36m_do_call\u001b[0;34m(self, fn, *args)\u001b[0m\n\u001b[1;32m   1037\u001b[0m   \u001b[0;32mdef\u001b[0m \u001b[0m_do_call\u001b[0m\u001b[0;34m(\u001b[0m\u001b[0mself\u001b[0m\u001b[0;34m,\u001b[0m \u001b[0mfn\u001b[0m\u001b[0;34m,\u001b[0m \u001b[0;34m*\u001b[0m\u001b[0margs\u001b[0m\u001b[0;34m)\u001b[0m\u001b[0;34m:\u001b[0m\u001b[0;34m\u001b[0m\u001b[0m\n\u001b[1;32m   1038\u001b[0m     \u001b[0;32mtry\u001b[0m\u001b[0;34m:\u001b[0m\u001b[0;34m\u001b[0m\u001b[0m\n\u001b[0;32m-> 1039\u001b[0;31m       \u001b[0;32mreturn\u001b[0m \u001b[0mfn\u001b[0m\u001b[0;34m(\u001b[0m\u001b[0;34m*\u001b[0m\u001b[0margs\u001b[0m\u001b[0;34m)\u001b[0m\u001b[0;34m\u001b[0m\u001b[0m\n\u001b[0m\u001b[1;32m   1040\u001b[0m     \u001b[0;32mexcept\u001b[0m \u001b[0merrors\u001b[0m\u001b[0;34m.\u001b[0m\u001b[0mOpError\u001b[0m \u001b[0;32mas\u001b[0m \u001b[0me\u001b[0m\u001b[0;34m:\u001b[0m\u001b[0;34m\u001b[0m\u001b[0m\n\u001b[1;32m   1041\u001b[0m       \u001b[0mmessage\u001b[0m \u001b[0;34m=\u001b[0m \u001b[0mcompat\u001b[0m\u001b[0;34m.\u001b[0m\u001b[0mas_text\u001b[0m\u001b[0;34m(\u001b[0m\u001b[0me\u001b[0m\u001b[0;34m.\u001b[0m\u001b[0mmessage\u001b[0m\u001b[0;34m)\u001b[0m\u001b[0;34m\u001b[0m\u001b[0m\n",
      "\u001b[0;32m/home/prateekjain2903/anaconda3/lib/python3.6/site-packages/tensorflow/python/client/session.py\u001b[0m in \u001b[0;36m_run_fn\u001b[0;34m(session, feed_dict, fetch_list, target_list, options, run_metadata)\u001b[0m\n\u001b[1;32m   1019\u001b[0m         return tf_session.TF_Run(session, options,\n\u001b[1;32m   1020\u001b[0m                                  \u001b[0mfeed_dict\u001b[0m\u001b[0;34m,\u001b[0m \u001b[0mfetch_list\u001b[0m\u001b[0;34m,\u001b[0m \u001b[0mtarget_list\u001b[0m\u001b[0;34m,\u001b[0m\u001b[0;34m\u001b[0m\u001b[0m\n\u001b[0;32m-> 1021\u001b[0;31m                                  status, run_metadata)\n\u001b[0m\u001b[1;32m   1022\u001b[0m \u001b[0;34m\u001b[0m\u001b[0m\n\u001b[1;32m   1023\u001b[0m     \u001b[0;32mdef\u001b[0m \u001b[0m_prun_fn\u001b[0m\u001b[0;34m(\u001b[0m\u001b[0msession\u001b[0m\u001b[0;34m,\u001b[0m \u001b[0mhandle\u001b[0m\u001b[0;34m,\u001b[0m \u001b[0mfeed_dict\u001b[0m\u001b[0;34m,\u001b[0m \u001b[0mfetch_list\u001b[0m\u001b[0;34m)\u001b[0m\u001b[0;34m:\u001b[0m\u001b[0;34m\u001b[0m\u001b[0m\n",
      "\u001b[0;31mKeyboardInterrupt\u001b[0m: "
     ]
    }
   ],
   "source": [
    "model.fit(xtrain, ytrain_one_hot_encoded,\n",
    "          batch_size=32,\n",
    "          epochs=100,\n",
    "          validation_data=(xtest, ytest_one_hot_encoded),\n",
    "          shuffle=True,\n",
    "             verbose = 1)"
   ]
  },
  {
   "cell_type": "code",
   "execution_count": 54,
   "metadata": {
    "collapsed": true
   },
   "outputs": [],
   "source": [
    "from keras.preprocessing.image import ImageDataGenerator"
   ]
  },
  {
   "cell_type": "code",
   "execution_count": 55,
   "metadata": {
    "collapsed": true
   },
   "outputs": [],
   "source": [
    "datagen = ImageDataGenerator(\n",
    "    featurewise_center=False,  # set input mean to 0 over the dataset\n",
    "    samplewise_center=False,  # set each sample mean to 0\n",
    "    featurewise_std_normalization=False,  # divide inputs by std of the dataset\n",
    "    samplewise_std_normalization=False,  # divide each input by its std\n",
    "    zca_whitening=False,  # apply ZCA whitening\n",
    "    rotation_range=0,  # randomly rotate images in the range (degrees, 0 to 180)\n",
    "    width_shift_range=0.1,  # randomly shift images horizontally (fraction of total width)\n",
    "    height_shift_range=0.1,  # randomly shift images vertically (fraction of total height)\n",
    "    horizontal_flip=True,  # randomly flip images\n",
    "    vertical_flip=False)  # randomly flip images"
   ]
  },
  {
   "cell_type": "code",
   "execution_count": 59,
   "metadata": {},
   "outputs": [
    {
     "name": "stdout",
     "output_type": "stream",
     "text": [
      "Epoch 1/100\n",
      "140/140 [==============================] - 16s - loss: 1.2309 - acc: 0.5783 - val_loss: 1.1662 - val_acc: 0.6156\n",
      "Epoch 2/100\n",
      "140/140 [==============================] - 17s - loss: 1.2167 - acc: 0.5790 - val_loss: 1.1243 - val_acc: 0.6211\n",
      "Epoch 3/100\n",
      "140/140 [==============================] - 17s - loss: 1.1818 - acc: 0.5936 - val_loss: 1.1107 - val_acc: 0.6200\n",
      "Epoch 4/100\n",
      "140/140 [==============================] - 17s - loss: 1.1710 - acc: 0.5966 - val_loss: 1.0941 - val_acc: 0.6333\n",
      "Epoch 5/100\n",
      "140/140 [==============================] - 17s - loss: 1.1602 - acc: 0.5994 - val_loss: 1.1096 - val_acc: 0.6267\n",
      "Epoch 6/100\n",
      "140/140 [==============================] - 17s - loss: 1.1501 - acc: 0.6042 - val_loss: 1.0796 - val_acc: 0.6356\n",
      "Epoch 7/100\n",
      "140/140 [==============================] - 17s - loss: 1.1279 - acc: 0.6153 - val_loss: 1.0587 - val_acc: 0.6422\n",
      "Epoch 8/100\n",
      "140/140 [==============================] - 17s - loss: 1.1428 - acc: 0.6067 - val_loss: 1.0591 - val_acc: 0.6533\n",
      "Epoch 9/100\n",
      "140/140 [==============================] - 17s - loss: 1.1124 - acc: 0.6215 - val_loss: 1.0570 - val_acc: 0.6589\n",
      "Epoch 10/100\n",
      "140/140 [==============================] - 17s - loss: 1.0991 - acc: 0.6199 - val_loss: 1.0300 - val_acc: 0.6578\n",
      "Epoch 11/100\n",
      "140/140 [==============================] - 17s - loss: 1.0972 - acc: 0.6284 - val_loss: 1.0358 - val_acc: 0.6600\n",
      "Epoch 12/100\n",
      "140/140 [==============================] - 17s - loss: 1.0895 - acc: 0.6282 - val_loss: 1.0221 - val_acc: 0.6667\n",
      "Epoch 13/100\n",
      "140/140 [==============================] - 17s - loss: 1.0725 - acc: 0.6354 - val_loss: 1.0156 - val_acc: 0.6511\n",
      "Epoch 14/100\n",
      "140/140 [==============================] - 17s - loss: 1.0666 - acc: 0.6242 - val_loss: 0.9938 - val_acc: 0.6800\n",
      "Epoch 15/100\n",
      "140/140 [==============================] - 17s - loss: 1.0391 - acc: 0.6425 - val_loss: 1.0263 - val_acc: 0.6667\n",
      "Epoch 16/100\n",
      "140/140 [==============================] - 17s - loss: 1.0530 - acc: 0.6381 - val_loss: 0.9954 - val_acc: 0.6711\n",
      "Epoch 17/100\n",
      "140/140 [==============================] - 17s - loss: 1.0200 - acc: 0.6443 - val_loss: 0.9729 - val_acc: 0.6711\n",
      "Epoch 18/100\n",
      "140/140 [==============================] - 17s - loss: 1.0333 - acc: 0.6522 - val_loss: 1.0030 - val_acc: 0.6667\n",
      "Epoch 19/100\n",
      "140/140 [==============================] - 17s - loss: 0.9955 - acc: 0.6581 - val_loss: 0.9648 - val_acc: 0.6800\n",
      "Epoch 20/100\n",
      "140/140 [==============================] - 17s - loss: 1.0058 - acc: 0.6537 - val_loss: 0.9666 - val_acc: 0.6833\n",
      "Epoch 21/100\n",
      "140/140 [==============================] - 17s - loss: 1.0132 - acc: 0.6465 - val_loss: 0.9535 - val_acc: 0.6856\n",
      "Epoch 22/100\n",
      "140/140 [==============================] - 17s - loss: 0.9868 - acc: 0.6597 - val_loss: 0.9446 - val_acc: 0.6867\n",
      "Epoch 23/100\n",
      "140/140 [==============================] - 17s - loss: 0.9676 - acc: 0.6638 - val_loss: 0.9430 - val_acc: 0.6911\n",
      "Epoch 24/100\n",
      "140/140 [==============================] - 17s - loss: 0.9853 - acc: 0.6562 - val_loss: 0.9456 - val_acc: 0.6811\n",
      "Epoch 25/100\n",
      "140/140 [==============================] - 17s - loss: 0.9705 - acc: 0.6697 - val_loss: 0.9350 - val_acc: 0.6856\n",
      "Epoch 26/100\n",
      "140/140 [==============================] - 17s - loss: 0.9623 - acc: 0.6595 - val_loss: 0.9131 - val_acc: 0.6800\n",
      "Epoch 27/100\n",
      "140/140 [==============================] - 17s - loss: 0.9339 - acc: 0.6731 - val_loss: 0.9413 - val_acc: 0.6889\n",
      "Epoch 28/100\n",
      "140/140 [==============================] - 17s - loss: 0.9556 - acc: 0.6679 - val_loss: 0.9524 - val_acc: 0.6856\n",
      "Epoch 29/100\n",
      "140/140 [==============================] - 17s - loss: 0.9373 - acc: 0.6717 - val_loss: 0.9043 - val_acc: 0.7011\n",
      "Epoch 30/100\n",
      "140/140 [==============================] - 17s - loss: 0.9281 - acc: 0.6765 - val_loss: 0.9016 - val_acc: 0.6967\n",
      "Epoch 31/100\n",
      "140/140 [==============================] - 17s - loss: 0.9231 - acc: 0.6798 - val_loss: 0.9080 - val_acc: 0.6967\n",
      "Epoch 32/100\n",
      "140/140 [==============================] - 17s - loss: 0.9143 - acc: 0.6877 - val_loss: 0.8906 - val_acc: 0.7056\n",
      "Epoch 33/100\n",
      "140/140 [==============================] - 17s - loss: 0.9140 - acc: 0.6868 - val_loss: 0.9392 - val_acc: 0.6911\n",
      "Epoch 34/100\n",
      "140/140 [==============================] - 17s - loss: 0.8969 - acc: 0.6842 - val_loss: 0.8739 - val_acc: 0.7067\n",
      "Epoch 35/100\n",
      "140/140 [==============================] - 17s - loss: 0.8955 - acc: 0.6900 - val_loss: 0.8788 - val_acc: 0.7078\n",
      "Epoch 36/100\n",
      "140/140 [==============================] - 17s - loss: 0.8887 - acc: 0.6927 - val_loss: 0.8936 - val_acc: 0.6933\n",
      "Epoch 37/100\n",
      "140/140 [==============================] - 17s - loss: 0.8878 - acc: 0.6869 - val_loss: 0.8963 - val_acc: 0.7022\n",
      "Epoch 38/100\n",
      "140/140 [==============================] - 17s - loss: 0.8953 - acc: 0.6862 - val_loss: 0.8613 - val_acc: 0.7111\n",
      "Epoch 39/100\n",
      "140/140 [==============================] - 17s - loss: 0.8876 - acc: 0.6947 - val_loss: 0.8687 - val_acc: 0.6933\n",
      "Epoch 40/100\n",
      "140/140 [==============================] - 17s - loss: 0.8663 - acc: 0.7005 - val_loss: 0.8905 - val_acc: 0.7122\n",
      "Epoch 41/100\n",
      "140/140 [==============================] - 17s - loss: 0.8734 - acc: 0.6945 - val_loss: 0.8558 - val_acc: 0.7122\n",
      "Epoch 42/100\n",
      "140/140 [==============================] - 17s - loss: 0.8471 - acc: 0.7118 - val_loss: 0.8765 - val_acc: 0.7033\n",
      "Epoch 43/100\n",
      "140/140 [==============================] - 17s - loss: 0.8475 - acc: 0.7053 - val_loss: 0.8561 - val_acc: 0.7122\n",
      "Epoch 44/100\n",
      "140/140 [==============================] - 17s - loss: 0.8525 - acc: 0.7020 - val_loss: 0.8482 - val_acc: 0.7144\n",
      "Epoch 45/100\n",
      "140/140 [==============================] - 17s - loss: 0.8465 - acc: 0.7058 - val_loss: 0.8317 - val_acc: 0.7211\n",
      "Epoch 46/100\n",
      "140/140 [==============================] - 17s - loss: 0.8643 - acc: 0.7063 - val_loss: 0.8766 - val_acc: 0.7078\n",
      "Epoch 47/100\n",
      "140/140 [==============================] - 17s - loss: 0.8458 - acc: 0.7117 - val_loss: 0.8452 - val_acc: 0.7133\n",
      "Epoch 48/100\n",
      "140/140 [==============================] - 17s - loss: 0.8437 - acc: 0.7035 - val_loss: 0.8443 - val_acc: 0.7089\n",
      "Epoch 49/100\n",
      "140/140 [==============================] - 17s - loss: 0.8240 - acc: 0.7100 - val_loss: 0.8318 - val_acc: 0.7167\n",
      "Epoch 50/100\n",
      "140/140 [==============================] - 17s - loss: 0.8214 - acc: 0.7162 - val_loss: 0.8439 - val_acc: 0.7211\n",
      "Epoch 51/100\n",
      "140/140 [==============================] - 17s - loss: 0.8282 - acc: 0.7111 - val_loss: 0.8343 - val_acc: 0.7122\n",
      "Epoch 52/100\n",
      "140/140 [==============================] - 17s - loss: 0.7996 - acc: 0.7205 - val_loss: 0.8304 - val_acc: 0.7200\n",
      "Epoch 53/100\n",
      "140/140 [==============================] - 17s - loss: 0.8123 - acc: 0.7139 - val_loss: 0.8210 - val_acc: 0.7089\n",
      "Epoch 54/100\n",
      "140/140 [==============================] - 17s - loss: 0.7972 - acc: 0.7210 - val_loss: 0.8496 - val_acc: 0.7089\n",
      "Epoch 55/100\n",
      "140/140 [==============================] - 17s - loss: 0.7991 - acc: 0.7216 - val_loss: 0.8092 - val_acc: 0.7267\n",
      "Epoch 56/100\n",
      "140/140 [==============================] - 17s - loss: 0.7994 - acc: 0.7152 - val_loss: 0.7981 - val_acc: 0.7256\n",
      "Epoch 57/100\n",
      "140/140 [==============================] - 17s - loss: 0.7895 - acc: 0.7292 - val_loss: 0.8195 - val_acc: 0.7211\n",
      "Epoch 58/100\n",
      "140/140 [==============================] - 17s - loss: 0.7893 - acc: 0.7237 - val_loss: 0.8096 - val_acc: 0.7133\n",
      "Epoch 59/100\n",
      "140/140 [==============================] - 17s - loss: 0.8054 - acc: 0.7241 - val_loss: 0.7940 - val_acc: 0.7189\n",
      "Epoch 60/100\n",
      "140/140 [==============================] - 17s - loss: 0.7523 - acc: 0.7408 - val_loss: 0.8533 - val_acc: 0.7156\n",
      "Epoch 61/100\n",
      "140/140 [==============================] - 17s - loss: 0.7770 - acc: 0.7215 - val_loss: 0.8044 - val_acc: 0.7322\n",
      "Epoch 62/100\n",
      "140/140 [==============================] - 17s - loss: 0.7625 - acc: 0.7279 - val_loss: 0.7900 - val_acc: 0.7300\n",
      "Epoch 63/100\n",
      "140/140 [==============================] - 17s - loss: 0.7508 - acc: 0.7388 - val_loss: 0.7780 - val_acc: 0.7378\n",
      "Epoch 64/100\n",
      "140/140 [==============================] - 17s - loss: 0.7529 - acc: 0.7339 - val_loss: 0.7941 - val_acc: 0.7311\n",
      "Epoch 65/100\n",
      "140/140 [==============================] - 17s - loss: 0.7574 - acc: 0.7407 - val_loss: 0.7914 - val_acc: 0.7356\n",
      "Epoch 66/100\n"
     ]
    },
    {
     "name": "stdout",
     "output_type": "stream",
     "text": [
      "140/140 [==============================] - 17s - loss: 0.7691 - acc: 0.7299 - val_loss: 0.7818 - val_acc: 0.7344\n",
      "Epoch 67/100\n",
      "140/140 [==============================] - 17s - loss: 0.7522 - acc: 0.7327 - val_loss: 0.7910 - val_acc: 0.7178\n",
      "Epoch 68/100\n",
      "140/140 [==============================] - 17s - loss: 0.7532 - acc: 0.7366 - val_loss: 0.7982 - val_acc: 0.7267\n",
      "Epoch 69/100\n",
      "140/140 [==============================] - 17s - loss: 0.7540 - acc: 0.7340 - val_loss: 0.7795 - val_acc: 0.7356\n",
      "Epoch 70/100\n",
      "140/140 [==============================] - 17s - loss: 0.7277 - acc: 0.7427 - val_loss: 0.7619 - val_acc: 0.7356\n",
      "Epoch 71/100\n",
      "140/140 [==============================] - 17s - loss: 0.7392 - acc: 0.7418 - val_loss: 0.7951 - val_acc: 0.7278\n",
      "Epoch 72/100\n",
      "140/140 [==============================] - 17s - loss: 0.7363 - acc: 0.7429 - val_loss: 0.7709 - val_acc: 0.7422\n",
      "Epoch 73/100\n",
      "140/140 [==============================] - 17s - loss: 0.7351 - acc: 0.7425 - val_loss: 0.7678 - val_acc: 0.7400\n",
      "Epoch 74/100\n",
      "140/140 [==============================] - 16s - loss: 0.7089 - acc: 0.7547 - val_loss: 0.7681 - val_acc: 0.7322\n",
      "Epoch 75/100\n",
      "140/140 [==============================] - 17s - loss: 0.7258 - acc: 0.7425 - val_loss: 0.8000 - val_acc: 0.7344\n",
      "Epoch 76/100\n",
      "140/140 [==============================] - 17s - loss: 0.7387 - acc: 0.7460 - val_loss: 0.7833 - val_acc: 0.7400\n",
      "Epoch 77/100\n",
      "140/140 [==============================] - 16s - loss: 0.7018 - acc: 0.7617 - val_loss: 0.7610 - val_acc: 0.7422\n",
      "Epoch 78/100\n",
      "140/140 [==============================] - 17s - loss: 0.7200 - acc: 0.7513 - val_loss: 0.7515 - val_acc: 0.7533\n",
      "Epoch 79/100\n",
      "140/140 [==============================] - 17s - loss: 0.7087 - acc: 0.7533 - val_loss: 0.7659 - val_acc: 0.7389\n",
      "Epoch 80/100\n",
      "140/140 [==============================] - 17s - loss: 0.7128 - acc: 0.7564 - val_loss: 0.7987 - val_acc: 0.7333\n",
      "Epoch 81/100\n",
      "140/140 [==============================] - 17s - loss: 0.7426 - acc: 0.7385 - val_loss: 0.7815 - val_acc: 0.7511\n",
      "Epoch 82/100\n",
      "140/140 [==============================] - 17s - loss: 0.6843 - acc: 0.7593 - val_loss: 0.7569 - val_acc: 0.7433\n",
      "Epoch 83/100\n",
      "140/140 [==============================] - 17s - loss: 0.6924 - acc: 0.7666 - val_loss: 0.7416 - val_acc: 0.7456\n",
      "Epoch 84/100\n",
      "140/140 [==============================] - 17s - loss: 0.6915 - acc: 0.7595 - val_loss: 0.7726 - val_acc: 0.7444\n",
      "Epoch 85/100\n",
      "140/140 [==============================] - 17s - loss: 0.6932 - acc: 0.7551 - val_loss: 0.7510 - val_acc: 0.7533\n",
      "Epoch 86/100\n",
      "140/140 [==============================] - 17s - loss: 0.6633 - acc: 0.7721 - val_loss: 0.7649 - val_acc: 0.7500\n",
      "Epoch 87/100\n",
      "140/140 [==============================] - 17s - loss: 0.6812 - acc: 0.7621 - val_loss: 0.7704 - val_acc: 0.7522\n",
      "Epoch 88/100\n",
      "140/140 [==============================] - 17s - loss: 0.7037 - acc: 0.7516 - val_loss: 0.7471 - val_acc: 0.7500\n",
      "Epoch 89/100\n",
      "140/140 [==============================] - 17s - loss: 0.6774 - acc: 0.7652 - val_loss: 0.7685 - val_acc: 0.7556\n",
      "Epoch 90/100\n",
      "140/140 [==============================] - 17s - loss: 0.6855 - acc: 0.7619 - val_loss: 0.7443 - val_acc: 0.7489\n",
      "Epoch 91/100\n",
      "140/140 [==============================] - 17s - loss: 0.6547 - acc: 0.7781 - val_loss: 0.7550 - val_acc: 0.7500\n",
      "Epoch 92/100\n",
      "140/140 [==============================] - 17s - loss: 0.6731 - acc: 0.7612 - val_loss: 0.7435 - val_acc: 0.7544\n",
      "Epoch 93/100\n",
      "140/140 [==============================] - 17s - loss: 0.6695 - acc: 0.7653 - val_loss: 0.7521 - val_acc: 0.7500\n",
      "Epoch 94/100\n",
      "140/140 [==============================] - 17s - loss: 0.6951 - acc: 0.7556 - val_loss: 0.7590 - val_acc: 0.7533\n",
      "Epoch 95/100\n",
      "140/140 [==============================] - 17s - loss: 0.6872 - acc: 0.7653 - val_loss: 0.7537 - val_acc: 0.7444\n",
      "Epoch 96/100\n",
      "140/140 [==============================] - 17s - loss: 0.6468 - acc: 0.7674 - val_loss: 0.7271 - val_acc: 0.7633\n",
      "Epoch 97/100\n",
      "140/140 [==============================] - 17s - loss: 0.6663 - acc: 0.7740 - val_loss: 0.7222 - val_acc: 0.7578\n",
      "Epoch 98/100\n",
      "140/140 [==============================] - 17s - loss: 0.6485 - acc: 0.7709 - val_loss: 0.7289 - val_acc: 0.7578\n",
      "Epoch 99/100\n",
      "140/140 [==============================] - 17s - loss: 0.6663 - acc: 0.7653 - val_loss: 0.7299 - val_acc: 0.7656\n",
      "Epoch 100/100\n",
      "140/140 [==============================] - 17s - loss: 0.6504 - acc: 0.7724 - val_loss: 0.7625 - val_acc: 0.7467\n"
     ]
    },
    {
     "data": {
      "text/plain": [
       "<keras.callbacks.History at 0x7f105012bd68>"
      ]
     },
     "execution_count": 59,
     "metadata": {},
     "output_type": "execute_result"
    }
   ],
   "source": [
    "datagen.fit(xtrain)\n",
    "\n",
    "    # Fit the model on the batches generated by datagen.flow().\n",
    "model.fit_generator(datagen.flow(xtrain, ytrain_one_hot_encoded, batch_size=32),\n",
    "                    steps_per_epoch=xtrain.shape[0] // 32,\n",
    "                    epochs=100,\n",
    "                    validation_data=(xtest, ytest_one_hot_encoded),\n",
    "                    workers=4)"
   ]
  },
  {
   "cell_type": "code",
   "execution_count": 60,
   "metadata": {},
   "outputs": [
    {
     "data": {
      "text/plain": [
       "[0.76247288386027023, 0.7466666666666667]"
      ]
     },
     "execution_count": 60,
     "metadata": {},
     "output_type": "execute_result"
    }
   ],
   "source": [
    "score = model.evaluate(xtest, ytest_one_hot_encoded, verbose=0)\n",
    "score"
   ]
  },
  {
   "cell_type": "code",
   "execution_count": null,
   "metadata": {
    "collapsed": true
   },
   "outputs": [],
   "source": []
  },
  {
   "cell_type": "code",
   "execution_count": null,
   "metadata": {
    "collapsed": true
   },
   "outputs": [],
   "source": []
  },
  {
   "cell_type": "code",
   "execution_count": 61,
   "metadata": {
    "collapsed": true
   },
   "outputs": [],
   "source": [
    "model.save('cifar.h5')"
   ]
  },
  {
   "cell_type": "code",
   "execution_count": null,
   "metadata": {
    "collapsed": true
   },
   "outputs": [],
   "source": []
  }
 ],
 "metadata": {
  "kernelspec": {
   "display_name": "Python 3",
   "language": "python",
   "name": "python3"
  },
  "language_info": {
   "codemirror_mode": {
    "name": "ipython",
    "version": 3
   },
   "file_extension": ".py",
   "mimetype": "text/x-python",
   "name": "python",
   "nbconvert_exporter": "python",
   "pygments_lexer": "ipython3",
   "version": "3.6.1"
  }
 },
 "nbformat": 4,
 "nbformat_minor": 2
}
