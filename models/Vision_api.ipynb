{
 "cells": [
  {
   "cell_type": "code",
   "execution_count": 1,
   "metadata": {},
   "outputs": [],
   "source": [
    "import io\n",
    "from google.cloud import vision"
   ]
  },
  {
   "cell_type": "code",
   "execution_count": 6,
   "metadata": {},
   "outputs": [
    {
     "name": "stdout",
     "output_type": "stream",
     "text": [
      "natural foods 0.9769437313079834\n",
      "apple 0.966667652130127\n",
      "fruit 0.9658337235450745\n",
      "produce 0.961027979850769\n",
      "food 0.8516576886177063\n",
      "local food 0.808893620967865\n",
      "diet food 0.6800500750541687\n",
      "mcintosh 0.6786462068557739\n",
      "superfood 0.5673747062683105\n",
      "accessory fruit 0.562545895576477\n"
     ]
    }
   ],
   "source": [
    "vision_client = vision.Client()\n",
    "file_name = 'apple1.jpg'\n",
    "\n",
    "with io.open(file_name, 'rb') as image_file:\n",
    "    content = image_file.read()\n",
    "    image = vision_client.image(\n",
    "        content=content, )\n",
    "\n",
    "labels = image.detect_labels()\n",
    "for label in labels:\n",
    "    print(label.description, label.score)"
   ]
  },
  {
   "cell_type": "code",
   "execution_count": null,
   "metadata": {
    "collapsed": true
   },
   "outputs": [],
   "source": []
  }
 ],
 "metadata": {
  "kernelspec": {
   "display_name": "Python 3",
   "language": "python",
   "name": "python3"
  },
  "language_info": {
   "codemirror_mode": {
    "name": "ipython",
    "version": 3
   },
   "file_extension": ".py",
   "mimetype": "text/x-python",
   "name": "python",
   "nbconvert_exporter": "python",
   "pygments_lexer": "ipython3",
   "version": "3.6.1"
  }
 },
 "nbformat": 4,
 "nbformat_minor": 2
}
