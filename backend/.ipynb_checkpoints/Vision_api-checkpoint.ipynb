{
 "cells": [
  {
   "cell_type": "code",
   "execution_count": 3,
   "metadata": {
    "collapsed": true
   },
   "outputs": [],
   "source": [
    "import io\n",
    "import os\n",
    "from google.cloud import vision\n",
    "os.environ[\"GOOGLE_APPLICATION_CREDENTIALS\"]=\"/Users/aadityasuri/Desktop/apikey.json\"\n"
   ]
  },
  {
   "cell_type": "code",
   "execution_count": 7,
   "metadata": {},
   "outputs": [],
   "source": [
    "vision_client = vision.Client()\n",
    "file_name = 'apple.jpg'\n",
    "\n",
    "with io.open(file_name, 'rb') as image_file:\n",
    "    content = image_file.read()\n",
    "    image = vision_client.image(\n",
    "        content=content, )\n",
    "\n",
    "labels = image.detect_labels()"
   ]
  },
  {
   "cell_type": "code",
   "execution_count": 20,
   "metadata": {},
   "outputs": [
    {
     "name": "stdout",
     "output_type": "stream",
     "text": [
      "(u'food', 0.8420484066009521)\n",
      "(u'local food', 0.8292344808578491)\n",
      "(u'child', 0.8159699440002441)\n",
      "(u'apple', 0.8033005595207214)\n",
      "(u'produce', 0.8007474541664124)\n",
      "(u'fruit', 0.781779944896698)\n",
      "(u'eating', 0.7462673187255859)\n",
      "(u'diet food', 0.5312081575393677)\n"
     ]
    }
   ],
   "source": [
    "for label in labels:\n",
    "    print(label.description, label.score)"
   ]
  },
  {
   "cell_type": "code",
   "execution_count": null,
   "metadata": {
    "collapsed": true
   },
   "outputs": [],
   "source": []
  }
 ],
 "metadata": {
  "kernelspec": {
   "display_name": "Python 2",
   "language": "python",
   "name": "python2"
  },
  "language_info": {
   "codemirror_mode": {
    "name": "ipython",
    "version": 2
   },
   "file_extension": ".py",
   "mimetype": "text/x-python",
   "name": "python",
   "nbconvert_exporter": "python",
   "pygments_lexer": "ipython2",
   "version": "2.7.13"
  }
 },
 "nbformat": 4,
 "nbformat_minor": 2
}
